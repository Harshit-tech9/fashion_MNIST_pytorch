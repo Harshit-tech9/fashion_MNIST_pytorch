{
  "nbformat": 4,
  "nbformat_minor": 0,
  "metadata": {
    "colab": {
      "provenance": [],
      "authorship_tag": "ABX9TyPD7lld5GW+ZsypT6P7z5I0",
      "include_colab_link": true
    },
    "kernelspec": {
      "name": "python3",
      "display_name": "Python 3"
    },
    "language_info": {
      "name": "python"
    }
  },
  "cells": [
    {
      "cell_type": "markdown",
      "metadata": {
        "id": "view-in-github",
        "colab_type": "text"
      },
      "source": [
        "<a href=\"https://colab.research.google.com/github/Harshit-tech9/fashion_MNIST_pytorch/blob/main/Fashion_MNIST.ipynb\" target=\"_parent\"><img src=\"https://colab.research.google.com/assets/colab-badge.svg\" alt=\"Open In Colab\"/></a>"
      ]
    },
    {
      "cell_type": "code",
      "source": [
        "import numpy as np\n",
        "import torch\n",
        "import matplotlib.pyplot as plt\n",
        "\n",
        "from torchvision import datasets, transforms\n",
        "from torch import nn\n",
        "import torch.nn.functional as F\n",
        "from torch import optim"
      ],
      "metadata": {
        "id": "kL-efOsVxuvU"
      },
      "execution_count": 1,
      "outputs": []
    },
    {
      "cell_type": "code",
      "source": [
        "# Define a transform to normalize a data\n",
        "transform = transforms.Compose([\n",
        "    transforms.ToTensor(),\n",
        "    transforms.Normalize((0.5,), (0.5,))\n",
        "])\n",
        "\n",
        "# Download and load the training data\n",
        "trainset = datasets.FashionMNIST('Fashion-MNIST_data/', download = True, train = True, transform = transform)\n",
        "trainloader = torch.utils.data.DataLoader(trainset, batch_size=64, shuffle=True)"
      ],
      "metadata": {
        "id": "R6AOExYqzOn1",
        "colab": {
          "base_uri": "https://localhost:8080/"
        },
        "outputId": "af488b6e-3be9-4cb6-c8c9-79e300bbbfc9"
      },
      "execution_count": 2,
      "outputs": [
        {
          "output_type": "stream",
          "name": "stdout",
          "text": [
            "Downloading http://fashion-mnist.s3-website.eu-central-1.amazonaws.com/train-images-idx3-ubyte.gz\n",
            "Downloading http://fashion-mnist.s3-website.eu-central-1.amazonaws.com/train-images-idx3-ubyte.gz to Fashion-MNIST_data/FashionMNIST/raw/train-images-idx3-ubyte.gz\n"
          ]
        },
        {
          "output_type": "stream",
          "name": "stderr",
          "text": [
            "100%|██████████| 26421880/26421880 [00:01<00:00, 17184214.88it/s]\n"
          ]
        },
        {
          "output_type": "stream",
          "name": "stdout",
          "text": [
            "Extracting Fashion-MNIST_data/FashionMNIST/raw/train-images-idx3-ubyte.gz to Fashion-MNIST_data/FashionMNIST/raw\n",
            "\n",
            "Downloading http://fashion-mnist.s3-website.eu-central-1.amazonaws.com/train-labels-idx1-ubyte.gz\n",
            "Downloading http://fashion-mnist.s3-website.eu-central-1.amazonaws.com/train-labels-idx1-ubyte.gz to Fashion-MNIST_data/FashionMNIST/raw/train-labels-idx1-ubyte.gz\n"
          ]
        },
        {
          "output_type": "stream",
          "name": "stderr",
          "text": [
            "100%|██████████| 29515/29515 [00:00<00:00, 303770.25it/s]\n"
          ]
        },
        {
          "output_type": "stream",
          "name": "stdout",
          "text": [
            "Extracting Fashion-MNIST_data/FashionMNIST/raw/train-labels-idx1-ubyte.gz to Fashion-MNIST_data/FashionMNIST/raw\n",
            "\n",
            "Downloading http://fashion-mnist.s3-website.eu-central-1.amazonaws.com/t10k-images-idx3-ubyte.gz\n",
            "Downloading http://fashion-mnist.s3-website.eu-central-1.amazonaws.com/t10k-images-idx3-ubyte.gz to Fashion-MNIST_data/FashionMNIST/raw/t10k-images-idx3-ubyte.gz\n"
          ]
        },
        {
          "output_type": "stream",
          "name": "stderr",
          "text": [
            "100%|██████████| 4422102/4422102 [00:00<00:00, 5484306.71it/s]\n"
          ]
        },
        {
          "output_type": "stream",
          "name": "stdout",
          "text": [
            "Extracting Fashion-MNIST_data/FashionMNIST/raw/t10k-images-idx3-ubyte.gz to Fashion-MNIST_data/FashionMNIST/raw\n",
            "\n",
            "Downloading http://fashion-mnist.s3-website.eu-central-1.amazonaws.com/t10k-labels-idx1-ubyte.gz\n",
            "Downloading http://fashion-mnist.s3-website.eu-central-1.amazonaws.com/t10k-labels-idx1-ubyte.gz to Fashion-MNIST_data/FashionMNIST/raw/t10k-labels-idx1-ubyte.gz\n"
          ]
        },
        {
          "output_type": "stream",
          "name": "stderr",
          "text": [
            "100%|██████████| 5148/5148 [00:00<00:00, 10817774.04it/s]"
          ]
        },
        {
          "output_type": "stream",
          "name": "stdout",
          "text": [
            "Extracting Fashion-MNIST_data/FashionMNIST/raw/t10k-labels-idx1-ubyte.gz to Fashion-MNIST_data/FashionMNIST/raw\n",
            "\n"
          ]
        },
        {
          "output_type": "stream",
          "name": "stderr",
          "text": [
            "\n"
          ]
        }
      ]
    },
    {
      "cell_type": "code",
      "source": [
        "dataiter = iter(trainloader)\n",
        "images, labels = next(dataiter)\n",
        "print(type(images))\n",
        "print(images.shape)\n",
        "print(labels.shape)\n",
        "\n",
        "print(labels.unique())"
      ],
      "metadata": {
        "colab": {
          "base_uri": "https://localhost:8080/"
        },
        "id": "CgrbRA2ryDVM",
        "outputId": "27fa8c7e-585d-4331-c29e-87f8eaa59857"
      },
      "execution_count": 16,
      "outputs": [
        {
          "output_type": "stream",
          "name": "stdout",
          "text": [
            "<class 'torch.Tensor'>\n",
            "torch.Size([64, 1, 28, 28])\n",
            "torch.Size([64])\n",
            "tensor([0, 1, 2, 3, 4, 5, 6, 7, 8, 9])\n"
          ]
        }
      ]
    },
    {
      "cell_type": "code",
      "source": [
        "plt.imshow(images[10].numpy().squeeze(), cmap='Greys_r')"
      ],
      "metadata": {
        "colab": {
          "base_uri": "https://localhost:8080/",
          "height": 447
        },
        "id": "oT6WpoYCxgrM",
        "outputId": "f80d9386-dd4c-4245-cfe7-6202cc1dab64"
      },
      "execution_count": 4,
      "outputs": [
        {
          "output_type": "execute_result",
          "data": {
            "text/plain": [
              "<matplotlib.image.AxesImage at 0x7f9539b43490>"
            ]
          },
          "metadata": {},
          "execution_count": 4
        },
        {
          "output_type": "display_data",
          "data": {
            "text/plain": [
              "<Figure size 640x480 with 1 Axes>"
            ],
            "image/png": "[encoded data removed]"
          },
          "metadata": {}
        }
      ]
    },
    {
      "cell_type": "code",
      "source": [
        "class fashion_MNIST(nn.Module):\n",
        "  def __init__(self, input_dim, hidden_dim_1, hidden_dim_2, hidden_dim_3, output_dim):\n",
        "    super(fashion_MNIST, self).__init__()\n",
        "\n",
        "    # hidden layer 1\n",
        "    self.layer_1 = nn.Linear(input_dim, hidden_dim_1)\n",
        "\n",
        "    # hidden layer 2\n",
        "    self.layer_2 = nn.Linear(hidden_dim_2, hidden_dim_3)\n",
        "\n",
        "    # hidden layer 3\n",
        "    self.layer_3 = nn.Linear(hidden_dim_3, output_dim)\n",
        "\n",
        "  def forward(self, x):\n",
        "    x = F.relu(self.layer_1(x))\n",
        "    x = F.relu(self.layer_2(x))\n",
        "    x = F.log_softmax(self.layer_3(x), dim = 1)\n",
        "\n",
        "    return x"
      ],
      "metadata": {
        "id": "He909dUnxtk_"
      },
      "execution_count": 5,
      "outputs": []
    },
    {
      "cell_type": "code",
      "source": [
        "input_dim    = 784\n",
        "hidden_dim_1 = 392\n",
        "hidden_dim_2 = 392\n",
        "hidden_dim_3 = 64\n",
        "output_dim   = 10\n",
        "\n",
        "model = fashion_MNIST(input_dim, hidden_dim_1, hidden_dim_2, hidden_dim_3, output_dim)\n",
        "print(model)"
      ],
      "metadata": {
        "colab": {
          "base_uri": "https://localhost:8080/"
        },
        "id": "3qhmmTWy1IRN",
        "outputId": "8492212a-e030-4e74-b83e-3f70dbe023e1"
      },
      "execution_count": 6,
      "outputs": [
        {
          "output_type": "stream",
          "name": "stdout",
          "text": [
            "fashion_MNIST(\n",
            "  (layer_1): Linear(in_features=784, out_features=392, bias=True)\n",
            "  (layer_2): Linear(in_features=392, out_features=64, bias=True)\n",
            "  (layer_3): Linear(in_features=64, out_features=10, bias=True)\n",
            ")\n"
          ]
        }
      ]
    },
    {
      "cell_type": "code",
      "source": [
        "criterion = nn.NLLLoss()\n",
        "optimizer = optim.Adam(model.parameters(), lr = 0.001)\n",
        "\n",
        "epoch = 30\n",
        "\n",
        "for e in range(epoch):\n",
        "  mnist_loss = 0\n",
        "  for images, labels in trainloader:\n",
        "    images = images.view(images.shape[0], -1)\n",
        "\n",
        "    optimizer.zero_grad()\n",
        "\n",
        "    logits = model.forward(images)\n",
        "\n",
        "    loss = criterion(logits, labels)\n",
        "    loss.backward()\n",
        "    optimizer.step()\n",
        "\n",
        "    mnist_loss += loss.item()\n",
        "\n",
        "  else:\n",
        "    print(f'Training loss: ', mnist_loss)\n"
      ],
      "metadata": {
        "colab": {
          "base_uri": "https://localhost:8080/"
        },
        "id": "uIY4z1DK_mKk",
        "outputId": "b72cf378-0acd-414e-869b-94a62cd4bd05"
      },
      "execution_count": 10,
      "outputs": [
        {
          "output_type": "stream",
          "name": "stdout",
          "text": [
            "Training loss:  254.5990385785699\n",
            "Training loss:  249.52259080857038\n",
            "Training loss:  244.562236815691\n",
            "Training loss:  241.73269740492105\n",
            "Training loss:  237.89230409637094\n",
            "Training loss:  234.1889236085117\n",
            "Training loss:  232.04125487059355\n",
            "Training loss:  229.48780862987041\n",
            "Training loss:  226.08829437941313\n",
            "Training loss:  223.59723852947354\n",
            "Training loss:  221.19483816623688\n",
            "Training loss:  218.8635352998972\n",
            "Training loss:  215.90044117346406\n",
            "Training loss:  214.39999380335212\n",
            "Training loss:  211.8000707104802\n",
            "Training loss:  209.93919283524156\n",
            "Training loss:  207.6141351237893\n",
            "Training loss:  205.95431999117136\n",
            "Training loss:  205.36797614395618\n",
            "Training loss:  201.6366154961288\n",
            "Training loss:  199.51083705946803\n",
            "Training loss:  198.21329921856523\n",
            "Training loss:  196.0435611717403\n",
            "Training loss:  194.46902266517282\n",
            "Training loss:  192.1349584273994\n",
            "Training loss:  191.65394543111324\n",
            "Training loss:  190.43846277147532\n",
            "Training loss:  188.14659966155887\n",
            "Training loss:  186.7271014675498\n",
            "Training loss:  185.01970412954688\n"
          ]
        }
      ]
    },
    {
      "cell_type": "code",
      "source": [
        "def view_classify(img, ps, version=\"MNIST\"):\n",
        "    ''' Function for viewing an image and it's predicted classes.\n",
        "    '''\n",
        "    ps = ps.data.numpy().squeeze()\n",
        "\n",
        "    fig, (ax1, ax2) = plt.subplots(figsize=(6,9), ncols=2)\n",
        "    ax1.imshow(img.resize_(1, 28, 28).numpy().squeeze())\n",
        "    ax1.axis('off')\n",
        "    ax2.barh(np.arange(10), ps)\n",
        "    ax2.set_aspect(0.1)\n",
        "    ax2.set_yticks(np.arange(10))\n",
        "    if version == \"MNIST\":\n",
        "        ax2.set_yticklabels(np.arange(10))\n",
        "    elif version == \"Fashion\":\n",
        "        ax2.set_yticklabels(['T-shirt/top',\n",
        "                            'Trouser',\n",
        "                            'Pullover',\n",
        "                            'Dress',\n",
        "                            'Coat',\n",
        "                            'Sandal',\n",
        "                            'Shirt',\n",
        "                            'Sneaker',\n",
        "                            'Bag',\n",
        "                            'Ankle Boot'], size='small');\n",
        "    ax2.set_title('Class Probability')\n",
        "    ax2.set_xlim(0, 1.1)\n",
        "\n",
        "    plt.tight_layout()"
      ],
      "metadata": {
        "id": "omWD4mDCAvNs"
      },
      "execution_count": 12,
      "outputs": []
    },
    {
      "cell_type": "code",
      "source": [
        "images, labels = next(iter(trainloader))\n",
        "img = images[10].view(1, 784)\n",
        "\n",
        "with torch.no_grad():\n",
        "  logits = model.forward(img)\n",
        "\n",
        "ps = F.softmax(logits, dim=1)\n",
        "view_classify(img.view(1,28,28), ps)"
      ],
      "metadata": {
        "id": "7l9i9QDCEUhv",
        "colab": {
          "base_uri": "https://localhost:8080/",
          "height": 345
        },
        "outputId": "8f906777-93d2-49a0-b814-fb059e81afb8"
      },
      "execution_count": 14,
      "outputs": [
        {
          "output_type": "display_data",
          "data": {
            "text/plain": [
              "<Figure size 600x900 with 2 Axes>"
            ],
            "image/png": "[encoded data removed]"
          },
          "metadata": {}
        }
      ]
    },
    {
      "cell_type": "code",
      "source": [],
      "metadata": {
        "id": "0L1FFtGNphjr"
      },
      "execution_count": null,
      "outputs": []
    }
  ]
}